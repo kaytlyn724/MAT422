{
  "nbformat": 4,
  "nbformat_minor": 0,
  "metadata": {
    "colab": {
      "provenance": [],
      "authorship_tag": "ABX9TyOulpxEzG9NctlDlkHATgPa",
      "include_colab_link": true
    },
    "kernelspec": {
      "name": "python3",
      "display_name": "Python 3"
    },
    "language_info": {
      "name": "python"
    }
  },
  "cells": [
    {
      "cell_type": "markdown",
      "metadata": {
        "id": "view-in-github",
        "colab_type": "text"
      },
      "source": [
        "<a href=\"https://colab.research.google.com/github/kaytlyn724/MAT422/blob/main/HW1.2_Linear_Algebra.ipynb\" target=\"_parent\"><img src=\"https://colab.research.google.com/assets/colab-badge.svg\" alt=\"Open In Colab\"/></a>"
      ]
    },
    {
      "cell_type": "markdown",
      "source": [
        "# **1.2 Linear Algebra**\n",
        "\n",
        "---\n",
        "\n"
      ],
      "metadata": {
        "id": "IB9sjB6rNf6d"
      }
    },
    {
      "cell_type": "markdown",
      "source": [
        "### **Key Concepts:**\n",
        "\n",
        "\n",
        "*   1.2.1. Linear spaces\n",
        "*   1.2.2. Orthogonality\n",
        "*   1.2.3. Gram–Schmidt process\n",
        "*   1.2.4. Eigenvalues and eigenvectors"
      ],
      "metadata": {
        "id": "R35K1QVFNzee"
      }
    },
    {
      "cell_type": "code",
      "source": [
        "### important imports to run code ###\n",
        "\n",
        "import numpy as np\n",
        "import sympy"
      ],
      "metadata": {
        "id": "tPDzEcqrXfaA"
      },
      "execution_count": 3,
      "outputs": []
    },
    {
      "cell_type": "markdown",
      "source": [
        "## **1.2.1 Linear Spaces**"
      ],
      "metadata": {
        "id": "bgwsAg8CPw4q"
      }
    },
    {
      "cell_type": "markdown",
      "source": [
        "\n",
        "**Linear Combinations:** An expression constructed from a subset by multiplying each term by a constant and adding the results."
      ],
      "metadata": {
        "id": "YuVzCVwciXun"
      }
    },
    {
      "cell_type": "code",
      "source": [
        "### Linear Combinations Examples ###\n",
        "\n",
        "# Define two vectors in R^2\n",
        "v1 = np.array([1, 5])\n",
        "v2 = np.array([2, 8])\n",
        "\n",
        "# Define two scalars\n",
        "a1 = 4\n",
        "a2 = 7\n",
        "\n",
        "# Calculate the linear combination\n",
        "# Any mix of these vectors and scalars using multiplication and addition would result in a linear combination\n",
        "combination1 = a1 * v1 + v2 * a2\n",
        "combination2 = v1 * a2 + a1 * v2\n",
        "\n",
        "print(\"The linear combination of a1*v1 + v2*a2: \", combination1)\n",
        "print(\"The linear combination of v1*a2 + a1*v2: \", combination2)\n",
        "# There are many more combinations you can create with these vectors and scalars, but these are two examples\n",
        "# This is showing that you can use multiplication and addition on any mix of vectors and scalars"
      ],
      "metadata": {
        "colab": {
          "base_uri": "https://localhost:8080/"
        },
        "id": "4e2wVTgjXWLB",
        "outputId": "3261264d-3cfb-452f-ec68-f5dc1d91fcfa"
      },
      "execution_count": null,
      "outputs": [
        {
          "output_type": "stream",
          "name": "stdout",
          "text": [
            "The linear combination of a1*v1 + v2*a2:  [18 76]\n",
            "The linear combination of v1*a2 + a1*v2:  [15 67]\n"
          ]
        }
      ]
    },
    {
      "cell_type": "markdown",
      "source": [
        "**Linear Subspace:** A linear subspace of V is a subset U⊆V that is closed under vector addition and scalar multiplication. That is for all $u_1,u_2$∈U and a∈ℝ, it holds that **$u_1$+$u_2$∈U** and **a$u_1$∈U**"
      ],
      "metadata": {
        "id": "QXkyGdhYhy1J"
      }
    },
    {
      "cell_type": "code",
      "source": [
        "### Linear Subspace Examples ###\n",
        "\n",
        "# Define two vectors in R^4\n",
        "v1 = np.array([1, 3, 6, 9])\n",
        "v2 = np.array([2, 4, 6, 8])\n",
        "\n",
        "# Check that the vectors are closed under addition\n",
        "add = v1 + v2\n",
        "\n",
        "# Check that the vector is closed under scalar multiplication\n",
        "a = 8\n",
        "scal_mult = a * v1\n",
        "\n",
        "print(\"v1 + v2 =\", add)\n",
        "print(\"8 * v1 =\", scal_mult)\n",
        "\n",
        "# Both results will be in the same dimension, therefore showing that they form subspaces"
      ],
      "metadata": {
        "colab": {
          "base_uri": "https://localhost:8080/"
        },
        "id": "v9M_2YsIYIn9",
        "outputId": "ddabefba-69fe-47e3-a635-2cdbed1f257e"
      },
      "execution_count": null,
      "outputs": [
        {
          "output_type": "stream",
          "name": "stdout",
          "text": [
            "v1 + v2 = [ 3  7 12 17]\n",
            "8 * v1 = [ 8 24 48 72]\n"
          ]
        }
      ]
    },
    {
      "cell_type": "markdown",
      "source": [
        "**Span:** Let $w_1$, ..., $w_m$∈V. The span of {$w_1, ..., w_m$}, denoted span($w_1$, ..., $w_m$), is the set of all linear combinations of the $w_j$’s. That is,\n",
        "\n",
        "![image.png](data:image/png;base64,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)\n",
        "\n",
        "  Every Span is a Linear subspace!"
      ],
      "metadata": {
        "id": "w-lzpG_FiCU3"
      }
    },
    {
      "cell_type": "code",
      "source": [
        "### Span Examples ###\n",
        "\n",
        "# Define two vectors in R^2\n",
        "v1 = np.array([3, 4])\n",
        "v2 = np.array([8, 6])\n",
        "\n",
        "# Define scalar values\n",
        "s = np.linspace(-2, 3, 4)\n",
        "\n",
        "# A set to store all possible linear combinations\n",
        "# This is our span\n",
        "span = set()\n",
        "\n",
        "# Generate all combinations of v1 and v2 with the possible scalars\n",
        "for a1 in s:\n",
        "    for a2 in s:\n",
        "        # Create a value lin_comb to hold the linear combination\n",
        "        lin_comb = a1 * v1 + a2 * v2\n",
        "        # Hold the combinations in the set\n",
        "        span.add(tuple(lin_comb))\n",
        "\n",
        "# Convert the set to an array to show below\n",
        "span_array = np.array(list(span))\n",
        "\n",
        "print(\"All unique points in the span of v1 and v2:\\n\", span_array)"
      ],
      "metadata": {
        "colab": {
          "base_uri": "https://localhost:8080/"
        },
        "id": "evbs54Tbf9Xw",
        "outputId": "d7e5e898-1403-498b-924c-79c025ee03e5"
      },
      "execution_count": null,
      "outputs": [
        {
          "output_type": "stream",
          "name": "stdout",
          "text": [
            "All unique points in the span of v1 and v2:\n",
            " [[ 23.          16.66666667]\n",
            " [-17.         -13.33333333]\n",
            " [  9.66666667   6.66666667]\n",
            " [ 18.          10.        ]\n",
            " [ -8.66666667 -10.        ]\n",
            " [ -3.66666667  -3.33333333]\n",
            " [  6.33333333  10.        ]\n",
            " [ 33.          30.        ]\n",
            " [-22.         -20.        ]\n",
            " [ -7.           0.        ]\n",
            " [ 14.66666667  13.33333333]\n",
            " [ 19.66666667  20.        ]\n",
            " [ 28.          23.33333333]\n",
            " [-12.          -6.66666667]\n",
            " [  1.33333333   3.33333333]\n",
            " [  4.66666667   0.        ]]\n"
          ]
        }
      ]
    },
    {
      "cell_type": "markdown",
      "source": [
        "**Column Space:** The column space of A (A∈$ℝ^{nxm}$, an nxm matrix with columns $au_1, ..., a_m$∈$ℝ^n$), denoted col(A), is the span of the columns of A, that is col(A)=span($a_1, ..., a_m$)"
      ],
      "metadata": {
        "id": "Ebhpkv43iGpr"
      }
    },
    {
      "cell_type": "code",
      "source": [
        "### Column Space Examples ###\n",
        "\n",
        "\n",
        "# Define a matrix A\n",
        "A = sympy.Matrix([1, 2, 3, 4, 5, 6, 7, 8, 9]).reshape(3, 3)\n",
        "\n",
        "# Define a matrix B\n",
        "B = sympy.Matrix([2, 4, 6, 8, 3, 6, 9, 12]).reshape(2, 4)\n",
        "\n",
        "# Original A matrix\n",
        "print(\"Matrix A:\")\n",
        "sympy.pprint(A)\n",
        "\n",
        "# Use sympy.columnspace()\n",
        "col_space_A = A.columnspace()\n",
        "\n",
        "# Show the columns of matrix A's column space\n",
        "print(\"\\nColumnspace of matrix A:\")\n",
        "for col in col_space_A:\n",
        "    sympy.pprint(col)\n",
        "\n",
        "# Original B matrix\n",
        "print(\"\\nMatrix B:\")\n",
        "sympy.pprint(B)\n",
        "\n",
        "# Use sympy.columnspace()\n",
        "col_space_B = B.columnspace()\n",
        "\n",
        "# Show the columns of matrix B's column space\n",
        "print(\"\\nColumnspace of matrix B:\")\n",
        "for col in col_space_B:\n",
        "    sympy.pprint(col)"
      ],
      "metadata": {
        "colab": {
          "base_uri": "https://localhost:8080/"
        },
        "id": "w9VrBq65gA47",
        "outputId": "a4ae5af8-af6d-4ea5-864a-9069734c7858"
      },
      "execution_count": null,
      "outputs": [
        {
          "output_type": "stream",
          "name": "stdout",
          "text": [
            "Matrix A:\n",
            "⎡1  2  3⎤\n",
            "⎢       ⎥\n",
            "⎢4  5  6⎥\n",
            "⎢       ⎥\n",
            "⎣7  8  9⎦\n",
            "\n",
            "Columnspace of matrix A:\n",
            "⎡1⎤\n",
            "⎢ ⎥\n",
            "⎢4⎥\n",
            "⎢ ⎥\n",
            "⎣7⎦\n",
            "⎡2⎤\n",
            "⎢ ⎥\n",
            "⎢5⎥\n",
            "⎢ ⎥\n",
            "⎣8⎦\n",
            "\n",
            "Matrix B:\n",
            "⎡2  4  6  8 ⎤\n",
            "⎢           ⎥\n",
            "⎣3  6  9  12⎦\n",
            "\n",
            "Columnspace of matrix B:\n",
            "⎡2⎤\n",
            "⎢ ⎥\n",
            "⎣3⎦\n"
          ]
        }
      ]
    },
    {
      "cell_type": "markdown",
      "source": [
        "**Linear Independence:** a list of vectors $u_1, ..., u_m$ is linearly independent if none of them can be written as a linear combination of the others, that is\n",
        "\n",
        "![image.png](data:image/png;base64,iVBORw0KGgoAAAANSUhEUgAAAKYAAAAWCAYAAABKQucCAAAAAXNSR0IArs4c6QAAAARnQU1BAACxjwv8YQUAAAAJcEhZcwAADsMAAA7DAcdvqGQAAAnaSURBVGhD7ZpxaBvXHce/HRkoLAOF5Y8zpFAND6qQQBQaiEzyhxU8sEwKtnGgEh7E1xQSJRuZnYxEbgeeYkYieeDIDQt2DAkSW4JUcLBaanxmGKRCihRwkQs2PkM9JLDLaTSgg7a8/U56siX5JMt20rjBHzhLv59Ounfvfd/v93vv/AYjsMsuO4xf8NdddtlR7Apzlx3J6yVMNQP1B/5+B6E+52/KUDMZZCp89rqgLiUgTSWQVrmjBBWqrl9PmM8juFTXi1iFAZZHW9D+UObWTiKD8EUR4TQ3dwQywtd8SHCrgPpsCO3W9xFYBAz7uPNnhDwxhOCzCooqw3DQAtsRYPyD3+L07QRJsRgDUk964PtC57e0xU8pWTZ53cTc09wsYYENN7exwBw3lXHmEgTmiijc8QpZDjHxXIjtgJZwsizeb6d+zHK7QIqFOsGEvii3XxUKG78sMKEzRC3aBMs05ofdLFp+W8Xo6WLaTYtskYWWub1KigU6HSz0DTc5OqncgIYmB4LT5fOcmJcQMbTDWs9tYwOc/R44jxu549WRngjA0GrDq28JZz6A3jkRPScN3LFGLn3tWe//aTGi4awHng9sELinFhKjHqSuibBWa76eLvbspT9ZYF0mFuD48zF4P5ZKoqlujWlobIF4P7IuBaWfSqg7Z4eJ29rNWc9RIw9w86ckM4vw3y6h/Q+X0HvbjT/1fYsfvxrB0NTOyOXyVBCGpoadM1F0MJ4UIZ7cRAtXwhi6Z0NPx5oC9NmkLo42oGU0DCnDbQ0eOdcRv2Vltg6RiecLh4PZDrvYOA/FylyIed6zMXPzMCX42lFiHmany9JMYZ6nWZYaczPrqs1P2gg5wMQTIhue4alibpjZr09S8qzEAgtR+z3hSRbqb2OmzgBLLSdZ6H43/Y6DuQe6meOMjQn1ViYOxlfLAWXaS+WBl4Ui/tx5/oR2BYUtjA2z7nNWZrrsZ8NX7MxWLzDz+VBRPyywQKuNDRdKnhIodXVQKu+Pc5vI0vkXLNp+MoOWWpfjzN8prNn8tI3RygRKz41+luQePbJ07+MDNJ4nTKz782o5uRRNE45H1VtTURc07gClbN2vU/l4FSXlY0VhsoSXWT8sqoM0u2Twqd5s2kqtFGWeEiGW23nit0zMMlA0eKtoda41J+oC8QErc0uVO1gZczG0BnhH0fevkjCzCosP2ui6FvpuXooLQQcTqB2uMbK1Oona1RbM92S0j9p4YZyLlre5gzr/ezKpbyxkrw2y9jlN4oLCS9BEC2a6VXpvqWBbiRDL7RKoXhOOetn63snSpPEz74N4lUnKydV8+kJRZifZpFR2/PsGO3Woi/3zsyLfrN4NVtDFUw/1La1PymrJAvEBy2pfa1QWZk4Aa50b7TOXFvKpEHOUDEat1CbMrBxl0TmdG6do2VYyG+PMe8JDv1KFnHAEZu+fZClNSNl8m/ODX9xZ1BaB2sIFmErE8+dThBk+T/4OEnThPK3Nhc7/htpE9mrH5my9NlGGiLgp89AiQOYuzqaE+d0Ci8YWNhZfFRbu0aRsqjXbZWn8N46WOSrqgrLWORMFt/F8n5aRu98iMVfZxzTB1iFj5IlM1bqE8UdOtBcV8upMFEG4YDv+cop4w1tWWmTp1D8rMqJKDCO3ffBpx+UbuPObbxHltm6NebQbobAT6uBp1L15Gr3TlbY6TDCdopeVTK4QFw6qCN3owdDMfpg2s0LQJYPZqQgCozEIXSJsb3H3VthngvWEiZapWyWN2IQEofFY0XqhCktheCMt6DmzcSdU1gXpqcuFQ88CCDyRMLvC3RWousFuOiNi/wAVpZ8GIXXZQelqlcQXAaC1AeaXUN1npnxoP+JEcJE7iqm3oH1RQMuVbnRfdcHy6//hsmeA3mt2N1yN6ztPXZrF3mYvJmeTCHRkcfP3TozM8w9LyK8aLVYzBBoM55EGyE2UlOk39/6Sn1IL+4yo42/XMMLc2IbuR14ce9AAcYt7wepSBL6zh9Byd5Z7toCaRPwx4HzHzB2lZL6WIE0Vjs/g/+gmfjxzBEqs2E/H18WrlTwVdTE/AuepEMz9AXS32mDWWRhZ9q2JuaowccAGu8UL58UknE3FspSRnE7DcsqE9D+GkNC2AJ4nELw9gtgGM4HiEIQm7TUNRaG4lFGQyvnXMO5VEa1rgEUvqhhtEP8owTOqRfIopGci2o7yzyqQme6FZ4quZTTDMeiDm65Y8sSlsIWxFEMo5kBvhwXqHM18Cr75J0kZKMu5M2rDWAfT0TjkJW6XUIe63wHRpdJBNR7gsSutaNMDCkVtPQwHzTBmDLDR5FmPCvnJEHwPyzeyy/gqhgDacMysH3ONb9tga+THm//Fp7Nd+OuNd9d8hePtcvXp6KLAShoRLSNVCLryfBgN9YX4rW70SNIIe6eIvdZLsB/mrhwq1O9ouCZCUFopau0h12IU/mvvw0WdUh0TnH1e2OsB30Ub3n/IZ76wH9KDEcySYOQZCXVNNOvyn5RhgOV6AK7ZS2h2+vCfZlsN6ciASJ8I3ycSIncCSA+OwLUqZmp3300EPwmitz+J9qkRtB2kbxx3wv+eGaGuFjg/ipDtgvDYD9edGDLzFHG0r84kqb0q0rEo/Qq1myJyJjcYZliawkjqRfwKGJpcCJ2nSD3Ri5Z3exBZzg+6aS4E/0RReZJOQJqgvinsJZeQQeKxB97RKEmkMnJCQrrJDivdZ3VUSPdvwnRDLMmWldHRRU3I1CYbLKthlkIVrzVfELQoKN4GqZGsUlwoa9spAnOPJdnCuqcExSjsX2dPsot/9zLvrbXDL9VQoHPWL35eHFnJzUy6OxY620V6ZBWW1VkkZD/vZtjWEy6FjV9AhR2PMuaGWVujX2f1vwWqbRdpi8Wy7aUNIuYmeUZx44R+nKuGwVicUlKQp/cjNkWRtFr9uiJh4ldXcPMv+dqyWo35KjA0inAnAohsWNpUwGCEQSfizH5JSfiUZfMb91qpdScCeVFC+G4beqhcqQ5Fy3s+1F111hgtt07i8QhMV5wlme/FCVNNwPegDo7Gra8V81jgTiUxOdAGU5VUoD2CxJntPYLM13FUP76U//AxQRxoQORujIa4GAFmqxXpaapBuad2ZMSnjsFONdymyciQBsMYuh+BccwLx0ZpfD6AoS9dEJu308NryLRaFxob1teYi0GMPPfA01SmGx45f2Zk2eSH7gob2DVCqVJRio7tbApWIZvwM++6f3JR2EJkmLkvdzMvlSwbX1q7XxvzfOxlIpUH27ntmllOsqi8/U7Jzowz71UXcw+GWLK84d8nWeDWuO5e6hvaH67RXXYyP6jI0ELLYKQUz12vM7vC3GVH8mIXP7vs8kIA/g/fn0+S0e/cWwAAAABJRU5ErkJggg==)"
      ],
      "metadata": {
        "id": "d4RajTUdiH-t"
      }
    },
    {
      "cell_type": "code",
      "source": [
        "### Linear Independence Examples ###\n",
        "\n",
        "# Linearly Dependent Matrix M1\n",
        "M1 = sympy.Matrix([[4, 5, 6],\n",
        "                  [8, 10, 12],\n",
        "                  [12, 15, 18]])\n",
        "\n",
        "# Linearly Independent Matrix M2\n",
        "M2 = sympy.Matrix([[1, 0, 0],\n",
        "                  [0, 1, 0],\n",
        "                  [0, 0, 1]])\n",
        "\n",
        "# Function to check linear independence using the matrix m and the name\n",
        "def check_linear_independence(m, name):\n",
        "    print(f\"Matrix {name}:\")\n",
        "    sympy.pprint(m)\n",
        "    # using rank to show its dependence/independence\n",
        "    rank = m.rank()\n",
        "    print(f\"\\nRank of Matrix {name}: {rank}\")\n",
        "    if rank == m.shape[1]:\n",
        "        print(f\"The columns of Matrix {name} are linearly independent.\\n\")\n",
        "    else:\n",
        "        print(f\"The columns of Matrix {name} are linearly dependent.\\n\")\n",
        "\n",
        "# Check linear independence for both matrices\n",
        "check_linear_independence(M1, 'M1')\n",
        "check_linear_independence(M2, 'M2')"
      ],
      "metadata": {
        "id": "yhP0-0MEgDbb",
        "colab": {
          "base_uri": "https://localhost:8080/"
        },
        "outputId": "150e78c7-6102-424b-f108-2d60df95a327"
      },
      "execution_count": null,
      "outputs": [
        {
          "output_type": "stream",
          "name": "stdout",
          "text": [
            "Matrix M1:\n",
            "⎡4   5   6 ⎤\n",
            "⎢          ⎥\n",
            "⎢8   10  12⎥\n",
            "⎢          ⎥\n",
            "⎣12  15  18⎦\n",
            "\n",
            "Rank of Matrix M1: 1\n",
            "The columns of Matrix M1 are linearly dependent.\n",
            "\n",
            "Matrix M2:\n",
            "⎡1  0  0⎤\n",
            "⎢       ⎥\n",
            "⎢0  1  0⎥\n",
            "⎢       ⎥\n",
            "⎣0  0  1⎦\n",
            "\n",
            "Rank of Matrix M2: 3\n",
            "The columns of Matrix M2 are linearly independent.\n",
            "\n"
          ]
        }
      ]
    },
    {
      "cell_type": "markdown",
      "source": [
        "## **1.2.2. Orthogonality**"
      ],
      "metadata": {
        "id": "MT6IOEKwwGfX"
      }
    },
    {
      "cell_type": "markdown",
      "source": [
        "**Orthonormal Bases:** A list of vectors {$u_1,... , u_m$} is orthonormal if the $U_i's$ are pairwise orthogonal and each has a norm 1, that is for all i and all j≠i, <$u_i,u_j$>=0 and ||$u_i$||=1.\n",
        "\n"
      ],
      "metadata": {
        "id": "noqCA09iyLq3"
      }
    },
    {
      "cell_type": "code",
      "source": [
        "### Orthonormal Bases Examples ###\n",
        "\n",
        "# Orthogonal vectors\n",
        "V1 = np.array([1, 0, 0])\n",
        "V2 = np.array([0, 1, 0])\n",
        "V3 = np.array([0, 0, 1])\n",
        "\n",
        "# Print original vectors\n",
        "print(\"Original Vectors:\")\n",
        "print(\"V1: \", V1)\n",
        "print(\"V2: \", V2)\n",
        "print(\"V3: \", V3)\n",
        "\n",
        "# Check orthogonality\n",
        "print(\"Dot products (should be zero for orthogonal vectors):\")\n",
        "print(\"V1*V2: \", np.dot(V1, V2))\n",
        "print(\"V1*V3: \", np.dot(V1, V3))\n",
        "print(\"V2*V3: \", np.dot(V2, V3))\n",
        "\n",
        "# To get the orthonormal basis, normalize the vectors\n",
        "normV1 = V1 / np.linalg.norm(V1)\n",
        "normV2 = V2 / np.linalg.norm(V2)\n",
        "normV3 = V3 / np.linalg.norm(V3)\n",
        "\n",
        "# Showing orthonormality, dot products are 1 for same vector\n",
        "print(\"\\nThe normalized vectors:\")\n",
        "print(\"V1: \", np.linalg.norm(normV1))\n",
        "print(\"V2: \", np.linalg.norm(normV2))\n",
        "print(\"V3: \", np.linalg.norm(normV3))\n",
        "\n",
        "# Showing orthogonality, dot products should be 0\n",
        "print(\"\\nDot products of normalized vectors:\")\n",
        "print(\"V1*V2: \", np.dot(normV1, normV2))\n",
        "print(\"V1*V3: \", np.dot(normV1, normV3))\n",
        "print(\"V2*V3: \", np.dot(normV2, normV3))"
      ],
      "metadata": {
        "colab": {
          "base_uri": "https://localhost:8080/"
        },
        "id": "O2VcnrNVzjt6",
        "outputId": "0d58a2d0-2786-4a7d-941d-2a03784ab8d3"
      },
      "execution_count": null,
      "outputs": [
        {
          "output_type": "stream",
          "name": "stdout",
          "text": [
            "Original Vectors:\n",
            "V1:  [1 0 0]\n",
            "V2:  [0 1 0]\n",
            "V3:  [0 0 1]\n",
            "Dot products (should be zero for orthogonal vectors):\n",
            "V1*V2:  0\n",
            "V1*V3:  0\n",
            "V2*V3:  0\n",
            "\n",
            "The normalized vectors:\n",
            "V1:  1.0\n",
            "V2:  1.0\n",
            "V3:  1.0\n",
            "\n",
            "Dot products of normalized vectors:\n",
            "V1*V2:  0.0\n",
            "V1*V3:  0.0\n",
            "V2*V3:  0.0\n"
          ]
        }
      ]
    },
    {
      "cell_type": "markdown",
      "source": [
        "**Best Approximation Theorem:** We have a linear subspace U⊆V and a vector v∉U. We want to find the vector v$^*$ in U that is closest to v in the norm,\n",
        "![Screenshot 2024-08-28 at 6.59.04 PM.png](data:image/png;base64,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)"
      ],
      "metadata": {
        "id": "0cZjrsqcz5f7"
      }
    },
    {
      "cell_type": "code",
      "source": [
        "### Best Approximation Theorem Examples ###\n",
        "\n",
        "# Orthonormal supspace S\n",
        "V1 = np.array([0, 0, 1])\n",
        "V2 = np.array([0, 1, 0])\n",
        "\n",
        "# Print original subspace\n",
        "print(\"Supspace S:\")\n",
        "print(V1)\n",
        "print(V2)\n",
        "\n",
        "# Vector in R^3 for projection\n",
        "vec = np.array([3, 6, 9])\n",
        "print(\"Vector:\\n\", vec)\n",
        "\n",
        "# Projection of v onto S\n",
        "proj = np.dot(vec, V1) * V1 + np.dot(vec, V2) * V2\n",
        "print(\"Project of vector vec onto Subspace S using best approximation:\\n\", proj)\n",
        "\n",
        "# Error, distance between v and the projection onto S\n",
        "err = np.linalg.norm(vec - proj)\n",
        "print(\"Distance between Vector vec and the projection onto Subspace S:\\n\", err)\n",
        "\n"
      ],
      "metadata": {
        "id": "GYi-GFpJz48e",
        "colab": {
          "base_uri": "https://localhost:8080/"
        },
        "outputId": "8d7e9d24-c302-47d4-fbd6-c86165dd18d3"
      },
      "execution_count": null,
      "outputs": [
        {
          "output_type": "stream",
          "name": "stdout",
          "text": [
            "Supspace S:\n",
            "[0 0 1]\n",
            "[0 1 0]\n",
            "Vector:\n",
            " [3 6 9]\n",
            "Project of vector vec onto Subspace S using best approximation:\n",
            " [0 6 9]\n",
            "Distance between Vector vec and the projection onto Subspace S:\n",
            " 3.0\n"
          ]
        }
      ]
    },
    {
      "cell_type": "markdown",
      "source": [
        "## **1.2.3. Gram–Schmidt Process**"
      ],
      "metadata": {
        "id": "QXQwYksIwaOK"
      }
    },
    {
      "cell_type": "markdown",
      "source": [
        "**Gram-Schmidt Process:** Used to obtain an orthonormal basis. Takes advantage of the properties of the orthogonal projection derived. In essence we add the vectors a$_i$ one by one, but only after taking out their orthogonal projection on the previously included vectors. The outcome spans the same subspace and orthogonal decomposition esures orthogonality."
      ],
      "metadata": {
        "id": "GJVyY4sJTUpv"
      }
    },
    {
      "cell_type": "code",
      "source": [
        "### Gram-Schmidt Process Examples ###\n",
        "\n",
        "# Function to complete the Gram-Schmidt Process\n",
        "def Gram_Schmidt_Process(vecs):\n",
        "\n",
        "  # Initializing an empty list to store the orthogonal basis later\n",
        "  orthogonal_basis = []\n",
        "\n",
        "  # Begin the Gram-Schmidt Process\n",
        "  for v in vecs:\n",
        "    # Copy the current vector into current_v\n",
        "    current_v = np.copy(v) + 0.0\n",
        "\n",
        "    # Subtract the projection onto the previous orthogonal vectors\n",
        "    for b in orthogonal_basis:\n",
        "\n",
        "      # Compute the projection\n",
        "      proj = np.dot(current_v, b) * b\n",
        "      # Subtract the projection from the current vector\n",
        "      current_v -= proj\n",
        "\n",
        "    # Compute the normalization on the orthogonal vector\n",
        "    normalized_v = current_v / np.linalg.norm(current_v)\n",
        "    # Add that normalized vector to the list of orthogonal basis\n",
        "    orthogonal_basis.append(normalized_v)\n",
        "\n",
        "  return np.array(orthogonal_basis)"
      ],
      "metadata": {
        "id": "hprm1FfJUyzc"
      },
      "execution_count": 9,
      "outputs": []
    },
    {
      "cell_type": "code",
      "source": [
        "# Using the Gram-Schmidt Process function\n",
        "\n",
        "vecs = np.array([[2, 0, 0], [1, 2, 2], [1, 1, 2]])\n",
        "print(\"Vectors:\\n\", vecs)\n",
        "# Calling the Gram-Schmidt Process function\n",
        "orthonormal_basis = Gram_Schmidt_Process(vecs)\n",
        "print(\"Orthonormal Basis using the Gram-Schmidt Process:\\n\", orthonormal_basis)"
      ],
      "metadata": {
        "id": "Q7WpvnKEhSnq",
        "outputId": "7f5b9ea3-6a95-4d0c-f727-5639afde456c",
        "colab": {
          "base_uri": "https://localhost:8080/"
        }
      },
      "execution_count": 22,
      "outputs": [
        {
          "output_type": "stream",
          "name": "stdout",
          "text": [
            "Vectors:\n",
            " [[2 0 0]\n",
            " [1 2 2]\n",
            " [1 1 2]]\n",
            "Orthonormal Basis using the Gram-Schmidt Process:\n",
            " [[ 1.          0.          0.        ]\n",
            " [ 0.          0.70710678  0.70710678]\n",
            " [ 0.         -0.70710678  0.70710678]]\n"
          ]
        }
      ]
    },
    {
      "cell_type": "markdown",
      "source": [
        "## **1.2.4. Eigenvalues and Eigenvectors**"
      ],
      "metadata": {
        "id": "Bk-AsAskwaVb"
      }
    },
    {
      "cell_type": "markdown",
      "source": [
        "**Eigenvalues and Eigenvectors:** Let A∈ℝ$^{dxd}$ ve a square matrix. Then λ∈ℝ is an eigenvalue of A if there exists a nonzero vector **x≠0** such that\n",
        "\n",
        "**Ax = λx**\n",
        "\n",
        "The vector x is referred to as an eigenvector."
      ],
      "metadata": {
        "id": "-sjPXHSNWCQ-"
      }
    },
    {
      "cell_type": "code",
      "source": [
        "### Eigenvalues and Eigenvectors Examples ###\n",
        "\n",
        "M = np.array([[-3, 6],\n",
        "              [2, 8]])\n",
        "print(\"Matrix:\\n\", M)\n",
        "\n",
        "# Find the Eigenvalues and Eigenvectors using numpy\n",
        "eigenvals, eigenvecs = np.linalg.eig(M)\n",
        "\n",
        "print(\"Eigenvalues\\n\", eigenvals)\n",
        "print(\"Eigenvectors\\n\", eigenvecs)"
      ],
      "metadata": {
        "id": "ys-M5T2ok1rL",
        "outputId": "df2aeef0-4c8c-4654-b2d5-04eec8039ef4",
        "colab": {
          "base_uri": "https://localhost:8080/"
        }
      },
      "execution_count": 23,
      "outputs": [
        {
          "output_type": "stream",
          "name": "stdout",
          "text": [
            "Matrix:\n",
            " [[-3  6]\n",
            " [ 2  8]]\n",
            "Eigenvalues\n",
            " [-4.  9.]\n",
            "Eigenvectors\n",
            " [[-0.98639392 -0.4472136 ]\n",
            " [ 0.16439899 -0.89442719]]\n"
          ]
        }
      ]
    },
    {
      "cell_type": "markdown",
      "source": [
        "**Diagonalization of Symmetric Matrices:** Let A be similar to a matrix D = diag($λ_1,...,λ_d$) with distinct diagonal entries, that is, there exists a nonsingular matirx P such that\n",
        "\n",
        "A = $PDP^{-1}$.\n",
        "\n",
        "Let $p_1,...,p_d$ be the columns of P. Then\n",
        "\n",
        "$AP = PD$\n",
        "\n",
        "which implies that\n",
        "\n",
        "$Ap_i=λ_ip_i$.\n",
        "\n",
        "If A is symmetric, then any two eigenvectors from different eigenspaces are orthogonal."
      ],
      "metadata": {
        "id": "xXb_lz2mWCuZ"
      }
    },
    {
      "cell_type": "code",
      "source": [
        "### Diagonalization of Symmetric Matrices Examples ###\n",
        "\n",
        "# Using the matrix from above ^ M\n",
        "print(\"Original Matrix:\\n\", M)\n",
        "\n",
        "# Find the Eigenvalues and Eigenvectors using numpy\n",
        "eigenvals, eigenvecs = np.linalg.eig(M)\n",
        "print(\"Eigenvalues:\\n\", eigenvals)\n",
        "print(\"Eigenvectors (P):\\n\", eigenvecs)\n",
        "\n",
        "# Diagonal matrix D\n",
        "D = np.diag(eigenvals)\n",
        "print(\"Diagonal Matrix (D):\\n\", D)\n",
        "\n",
        "# Solve for A = PDP^-1\n",
        "\n",
        "# P\n",
        "P = eigenvecs\n",
        "# P^-1\n",
        "inv_P = np.linalg.inv(P)\n",
        "# A = P*D*P^-1 using matirx multiplication\n",
        "A = P @ D @ inv_P\n",
        "print(\"Diagonalization (PDP^-1):\\n\", A)\n"
      ],
      "metadata": {
        "id": "D7dbmle2WD1Q",
        "colab": {
          "base_uri": "https://localhost:8080/"
        },
        "outputId": "94e1fdea-d0f5-429b-d246-16aa2c5ef340"
      },
      "execution_count": 24,
      "outputs": [
        {
          "output_type": "stream",
          "name": "stdout",
          "text": [
            "Original Matrix:\n",
            " [[-3  6]\n",
            " [ 2  8]]\n",
            "Eigenvalues:\n",
            " [-4.  9.]\n",
            "Eigenvectors (P):\n",
            " [[-0.98639392 -0.4472136 ]\n",
            " [ 0.16439899 -0.89442719]]\n",
            "Diagonal Matrix (D):\n",
            " [[-4.  0.]\n",
            " [ 0.  9.]]\n",
            "Diagonalization (PDP^-1):\n",
            " [[-3.  6.]\n",
            " [ 2.  8.]]\n"
          ]
        }
      ]
    },
    {
      "cell_type": "markdown",
      "source": [
        "**Constrained Optimization:** Let A be n x n symmetric matrix A with an orthogonal diagonalization A = $PDP^{-1}$. The columns of P are orthonormal eigenvectors $v_1,...,v_n$ of A. Assume that the diagonal of D are arranged so that $λ_1≤λ_2,...,≤λ_n$. Then\n",
        "\n",
        "![image.png](data:image/png;base64,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)\n",
        "\n",
        "is achieved when x=v$_1$ and\n",
        "\n",
        "![image.png](data:image/png;base64,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)\n",
        "\n",
        "...\n",
        "\n",
        "Rearranging the terms gives\n",
        "\n",
        "![image.png](data:image/png;base64,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)"
      ],
      "metadata": {
        "id": "K35KKICrWC7a"
      }
    },
    {
      "cell_type": "code",
      "source": [
        "### Constrained Optimization Examples ###\n",
        "\n",
        "# Using the matrix from above ^ M\n",
        "print(\"Matrix:\\n\", M)\n",
        "\n",
        "# Find the Eigenvalues and Eigenvectors using numpy\n",
        "eigenvals, eigenvecs = np.linalg.eig(M)\n",
        "print(\"Eigenvalues:\\n\", eigenvals)\n",
        "print(\"Eigenvectors:\\n\", eigenvecs)\n",
        "\n",
        "# Find the Min value with the eigenvector assoicated to the min eigenvalue\n",
        "min = np.argmin(eigenvals)\n",
        "min_eig_val = eigenvals[min]\n",
        "min_eig_vec = eigenvecs[:,min]\n",
        "\n",
        "print(\"Min Eigenvalue:\\n\", min_eig_val)\n",
        "print(\"Min Eigenvector (associated with the Min Eigenvalue):\\n\", min_eig_vec)"
      ],
      "metadata": {
        "id": "md36p3EzWEUt",
        "colab": {
          "base_uri": "https://localhost:8080/"
        },
        "outputId": "61232217-a114-471c-9e41-c013d00a0c7a"
      },
      "execution_count": 33,
      "outputs": [
        {
          "output_type": "stream",
          "name": "stdout",
          "text": [
            "Matrix:\n",
            " [[-3  6]\n",
            " [ 2  8]]\n",
            "Eigenvalues:\n",
            " [-4.  9.]\n",
            "Eigenvectors:\n",
            " [[-0.98639392 -0.4472136 ]\n",
            " [ 0.16439899 -0.89442719]]\n",
            "Min Eigenvalue:\n",
            " -4.0\n",
            "Min Eigenvector (associated with the Min Eigenvalue):\n",
            " [-0.98639392  0.16439899]\n"
          ]
        }
      ]
    },
    {
      "cell_type": "markdown",
      "source": [
        "## **References:**\n",
        "[Mathematical Methods in Data Science](https://shop.elsevier.com/books/mathematical-methods-in-data-science/ren/978-0-443-18679-0), Jingli Ren and Haiyan Wang, Elsevier, 2023\n",
        "\n"
      ],
      "metadata": {
        "id": "1z7gHCmqlJ2X"
      }
    }
  ]
}