{
  "nbformat": 4,
  "nbformat_minor": 0,
  "metadata": {
    "colab": {
      "provenance": [],
      "authorship_tag": "ABX9TyO2UDGX5KkkOKkKrV/jVD3K",
      "include_colab_link": true
    },
    "kernelspec": {
      "name": "python3",
      "display_name": "Python 3"
    },
    "language_info": {
      "name": "python"
    }
  },
  "cells": [
    {
      "cell_type": "markdown",
      "metadata": {
        "id": "view-in-github",
        "colab_type": "text"
      },
      "source": [
        "<a href=\"https://colab.research.google.com/github/kaytlyn724/MAT422/blob/main/HW1.2_Linear_Algebra.ipynb\" target=\"_parent\"><img src=\"https://colab.research.google.com/assets/colab-badge.svg\" alt=\"Open In Colab\"/></a>"
      ]
    },
    {
      "cell_type": "code",
      "execution_count": null,
      "metadata": {
        "id": "8kbAQ6ATNI0X"
      },
      "outputs": [],
      "source": []
    },
    {
      "cell_type": "markdown",
      "source": [
        "# **1.2 Linear Algebra**\n",
        "\n",
        "---\n",
        "\n"
      ],
      "metadata": {
        "id": "IB9sjB6rNf6d"
      }
    },
    {
      "cell_type": "markdown",
      "source": [
        "### Key Concepts:\n",
        "\n",
        "\n",
        "*   1.2.1. Linear spaces\n",
        "*   1.2.2. Orthogonality\n",
        "*   1.2.3. Gram–Schmidt process\n",
        "*   1.2.4. Eigenvalues and eigenvectors"
      ],
      "metadata": {
        "id": "R35K1QVFNzee"
      }
    },
    {
      "cell_type": "markdown",
      "source": [
        "### **1.2.1 Linear Spaces**\n",
        "\n",
        "**Linear Combinations:** An expression constructed from a subset by multiplying each term by a constant and adding the results.\n",
        "\n",
        "**Linear Subspace:** A linear subspace of V is a subset U⊆V that is closed under vector addition and scalar multiplication. That is for all $u_1,u_2$∈U and a∈ℝ, it holds that **$u_1$+$u_2$∈U** and **a$u_1$∈U**\n",
        "\n",
        "**Span:** Let $w_1$, ..., $w_m$∈V. The span of {$w_1, ..., w_m$}, denoted span($w_1$, ..., $w_m$), is the set of all linear combinations of the $w_j$’s. That is,\n",
        "\n",
        "![image.png](data:image/png;base64,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)\n",
        "\n",
        "  Every Span is a Linear subspace!\n",
        "\n",
        "**Column Space:** The column space of A (A∈$ℝ^{nxm}$, an nxm matrix with columns $au_1, ..., a_m$∈$ℝ^n$), denoted col(A), is the span of the columns of A, that is col(A)=span($a_1, ..., a_m$)\n",
        "\n",
        "**Linear Independence:** a list of vectors $u_1, ..., u_m$ is linearly independent if none of them can be written as a linear combination of the others, that is\n",
        "\n",
        "![image.png](data:image/png;base64,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)"
      ],
      "metadata": {
        "id": "bgwsAg8CPw4q"
      }
    },
    {
      "cell_type": "code",
      "source": [],
      "metadata": {
        "id": "SRmcW35mRNfE"
      },
      "execution_count": null,
      "outputs": []
    }
  ]
}